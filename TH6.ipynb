{
  "nbformat": 4,
  "nbformat_minor": 0,
  "metadata": {
    "colab": {
      "name": "TH6.ipynb",
      "provenance": [],
      "authorship_tag": "ABX9TyPZTKwX3b5DWFNHVdSGS0E0",
      "include_colab_link": true
    },
    "kernelspec": {
      "name": "python3",
      "display_name": "Python 3"
    },
    "language_info": {
      "name": "python"
    }
  },
  "cells": [
    {
      "cell_type": "markdown",
      "metadata": {
        "id": "view-in-github",
        "colab_type": "text"
      },
      "source": [
        "<a href=\"https://colab.research.google.com/github/thineh/THToancaocap/blob/main/TH6.ipynb\" target=\"_parent\"><img src=\"https://colab.research.google.com/assets/colab-badge.svg\" alt=\"Open In Colab\"/></a>"
      ]
    },
    {
      "cell_type": "markdown",
      "source": [
        "TH1"
      ],
      "metadata": {
        "id": "xBDG_zRUSDHs"
      }
    },
    {
      "cell_type": "code",
      "execution_count": null,
      "metadata": {
        "colab": {
          "base_uri": "https://localhost:8080/"
        },
        "id": "Gm2BfGozSCeL",
        "outputId": "a2f5da2c-fe67-4ac8-adc7-86959ce3818e"
      },
      "outputs": [
        {
          "output_type": "execute_result",
          "data": {
            "text/plain": [
              "6"
            ]
          },
          "metadata": {},
          "execution_count": 1
        }
      ],
      "source": [
        "import math\n",
        "def giaithua(n):\n",
        "  if (n==0):\n",
        "    return 1\n",
        "  else:\n",
        "    return n*giaithua(n-1)\n",
        "giaithua(3)"
      ]
    },
    {
      "cell_type": "code",
      "source": [
        "giaithua(4)"
      ],
      "metadata": {
        "colab": {
          "base_uri": "https://localhost:8080/"
        },
        "id": "RqbsCfoISDhp",
        "outputId": "63eacf4d-731c-4990-9e45-c4fa7ecffae6"
      },
      "execution_count": null,
      "outputs": [
        {
          "output_type": "execute_result",
          "data": {
            "text/plain": [
              "24"
            ]
          },
          "metadata": {},
          "execution_count": 2
        }
      ]
    },
    {
      "cell_type": "markdown",
      "source": [
        "TH2"
      ],
      "metadata": {
        "id": "_5udjiGSSanE"
      }
    },
    {
      "cell_type": "code",
      "source": [
        "def fibo(n):\n",
        "  if n == 0:\n",
        "    return 0\n",
        "  if n ==1:\n",
        "    return 1\n",
        "  return fibo(n-1)+fibo(n-2)\n",
        "fibo(4)\n"
      ],
      "metadata": {
        "colab": {
          "base_uri": "https://localhost:8080/"
        },
        "id": "JBhjHGVzSYRP",
        "outputId": "bcd4fc6a-0483-4084-b1ba-d78206fe0d25"
      },
      "execution_count": null,
      "outputs": [
        {
          "output_type": "execute_result",
          "data": {
            "text/plain": [
              "3"
            ]
          },
          "metadata": {},
          "execution_count": 3
        }
      ]
    },
    {
      "cell_type": "code",
      "source": [
        "fibo(5)"
      ],
      "metadata": {
        "colab": {
          "base_uri": "https://localhost:8080/"
        },
        "id": "zSwT0IT3SpoA",
        "outputId": "8507323a-580a-41fd-9ec5-afe1197c7799"
      },
      "execution_count": null,
      "outputs": [
        {
          "output_type": "execute_result",
          "data": {
            "text/plain": [
              "5"
            ]
          },
          "metadata": {},
          "execution_count": 4
        }
      ]
    },
    {
      "cell_type": "code",
      "source": [
        "fibo(6)"
      ],
      "metadata": {
        "colab": {
          "base_uri": "https://localhost:8080/"
        },
        "id": "-78ZAP8iSqis",
        "outputId": "0e53cbc2-9d97-4f35-fc2f-00e496d15e3e"
      },
      "execution_count": null,
      "outputs": [
        {
          "output_type": "execute_result",
          "data": {
            "text/plain": [
              "8"
            ]
          },
          "metadata": {},
          "execution_count": 5
        }
      ]
    },
    {
      "cell_type": "markdown",
      "source": [
        "TH3"
      ],
      "metadata": {
        "id": "xiOV2n_hS3Ou"
      }
    },
    {
      "cell_type": "code",
      "source": [
        "def an_exp_an(n):\n",
        "  if n ==1:\n",
        "    return 1.0/2\n",
        "  else:\n",
        "    return an_exp_an(n-1)**an_exp_an(n-1)\n",
        "an_exp_an(1)"
      ],
      "metadata": {
        "colab": {
          "base_uri": "https://localhost:8080/"
        },
        "id": "Uyk8TQtaS3Y4",
        "outputId": "13e34f46-5272-4487-9304-4d743495554f"
      },
      "execution_count": null,
      "outputs": [
        {
          "output_type": "execute_result",
          "data": {
            "text/plain": [
              "0.5"
            ]
          },
          "metadata": {},
          "execution_count": 6
        }
      ]
    },
    {
      "cell_type": "code",
      "source": [
        "an_exp_an(2)"
      ],
      "metadata": {
        "colab": {
          "base_uri": "https://localhost:8080/"
        },
        "id": "LSY3vLu5TF78",
        "outputId": "c4478da0-15df-4808-c0a2-c8df4cbdd1f0"
      },
      "execution_count": null,
      "outputs": [
        {
          "output_type": "execute_result",
          "data": {
            "text/plain": [
              "0.7071067811865476"
            ]
          },
          "metadata": {},
          "execution_count": 11
        }
      ]
    },
    {
      "cell_type": "code",
      "source": [
        "an_exp_an(3)"
      ],
      "metadata": {
        "colab": {
          "base_uri": "https://localhost:8080/"
        },
        "id": "aclTJk7TTHp7",
        "outputId": "ae8ccf73-257b-4602-cec7-1f4604cfd6ef"
      },
      "execution_count": null,
      "outputs": [
        {
          "output_type": "execute_result",
          "data": {
            "text/plain": [
              "0.7826540273556803"
            ]
          },
          "metadata": {},
          "execution_count": 10
        }
      ]
    },
    {
      "cell_type": "code",
      "source": [
        "an_exp_an(4)"
      ],
      "metadata": {
        "colab": {
          "base_uri": "https://localhost:8080/"
        },
        "id": "K0HwQeTMTIHS",
        "outputId": "1bd6b685-71b0-4bcb-993a-404aed4cc36c"
      },
      "execution_count": null,
      "outputs": [
        {
          "output_type": "execute_result",
          "data": {
            "text/plain": [
              "0.8254713306050621"
            ]
          },
          "metadata": {},
          "execution_count": 9
        }
      ]
    },
    {
      "cell_type": "code",
      "source": [
        "an_exp_an(5)"
      ],
      "metadata": {
        "colab": {
          "base_uri": "https://localhost:8080/"
        },
        "id": "Oe9258tOTIO3",
        "outputId": "eb4df712-d541-40a3-b717-28282e19dc4a"
      },
      "execution_count": null,
      "outputs": [
        {
          "output_type": "execute_result",
          "data": {
            "text/plain": [
              "0.8535714578150946"
            ]
          },
          "metadata": {},
          "execution_count": 7
        }
      ]
    },
    {
      "cell_type": "code",
      "source": [
        "an_exp_an(10)"
      ],
      "metadata": {
        "colab": {
          "base_uri": "https://localhost:8080/"
        },
        "id": "clZriGkcTIWu",
        "outputId": "46b86fd5-b2ec-4797-a370-fc5ea3e94b20"
      },
      "execution_count": null,
      "outputs": [
        {
          "output_type": "execute_result",
          "data": {
            "text/plain": [
              "0.9176411981636667"
            ]
          },
          "metadata": {},
          "execution_count": 8
        }
      ]
    },
    {
      "cell_type": "markdown",
      "source": [
        "TH4"
      ],
      "metadata": {
        "id": "ZAB1ItClXW4c"
      }
    },
    {
      "cell_type": "code",
      "source": [
        "def bai4(n):\n",
        "  if n == 1:\n",
        "    return 4\n",
        "  else:\n",
        "    return 5.0/(6-bai4(n-1))"
      ],
      "metadata": {
        "id": "9mSxJytfXYxJ"
      },
      "execution_count": 2,
      "outputs": []
    },
    {
      "cell_type": "code",
      "source": [
        "bai4(5)"
      ],
      "metadata": {
        "id": "UtrGyN8JXm35",
        "outputId": "2d00a51a-7507-47e0-81c8-beed2b7d99d1",
        "colab": {
          "base_uri": "https://localhost:8080/"
        }
      },
      "execution_count": 3,
      "outputs": [
        {
          "output_type": "execute_result",
          "data": {
            "text/plain": [
              "1.019108280254777"
            ]
          },
          "metadata": {},
          "execution_count": 3
        }
      ]
    },
    {
      "cell_type": "code",
      "source": [
        "bai4(6)"
      ],
      "metadata": {
        "id": "bC5CesCXXo8_",
        "outputId": "c57785ad-cb54-4d3c-a3dd-b4db1624c7d9",
        "colab": {
          "base_uri": "https://localhost:8080/"
        }
      },
      "execution_count": 4,
      "outputs": [
        {
          "output_type": "execute_result",
          "data": {
            "text/plain": [
              "1.0038363171355498"
            ]
          },
          "metadata": {},
          "execution_count": 4
        }
      ]
    },
    {
      "cell_type": "code",
      "source": [
        "bai4(7)"
      ],
      "metadata": {
        "id": "grYDK02-XrXb",
        "outputId": "77c8a778-d40c-42cf-aed6-734927b6b324",
        "colab": {
          "base_uri": "https://localhost:8080/"
        }
      },
      "execution_count": 5,
      "outputs": [
        {
          "output_type": "execute_result",
          "data": {
            "text/plain": [
              "1.000767852572306"
            ]
          },
          "metadata": {},
          "execution_count": 5
        }
      ]
    },
    {
      "cell_type": "markdown",
      "source": [
        "TH5"
      ],
      "metadata": {
        "id": "DDuYczR8XuXi"
      }
    },
    {
      "cell_type": "code",
      "source": [
        "def tisoFibo(n): \n",
        " if n==1: \n",
        "  return 1 \n",
        " else: \n",
        "  return 1.0 + 1.0/tisoFibo(n-1) \n",
        "for i in range(1, 11):\n",
        "  print (i, tisoFibo(i))"
      ],
      "metadata": {
        "id": "VaSRbYtfXvG3",
        "outputId": "c339e35e-6fe5-4323-dc4c-74fbc0bec34f",
        "colab": {
          "base_uri": "https://localhost:8080/"
        }
      },
      "execution_count": 9,
      "outputs": [
        {
          "output_type": "stream",
          "name": "stdout",
          "text": [
            "1 1\n",
            "2 2.0\n",
            "3 1.5\n",
            "4 1.6666666666666665\n",
            "5 1.6\n",
            "6 1.625\n",
            "7 1.6153846153846154\n",
            "8 1.619047619047619\n",
            "9 1.6176470588235294\n",
            "10 1.6181818181818182\n"
          ]
        }
      ]
    },
    {
      "cell_type": "code",
      "source": [
        "from sympy import Derivative, Symbol, sympify \n",
        "def grad_ascent(x0, ham_f1x, x): \n",
        " epsilon = 1e-6 \n",
        " step_size = 1e-4 \n",
        " x_old = x0 \n",
        " x_new = x_old + step_size*ham_f1x.subs({x:x_old}).evalf() \n",
        " while abs(x_old - x_new) > epsilon: \n",
        "  x_old = x_new \n",
        "  x_new = x_old + step_size*ham_f1x.subs({x:x_old}).evalf()\n",
        " return x_new\n",
        "if __name__ == '__main__': \n",
        " f = input('Nhap ham 1 bien (f): ') \n",
        " var = input('Nhap ten bien tuong ung (x): ') \n",
        " var0 = float(input('Nhap gia tri khoi dau cho bien x: '))\n",
        " try:\n",
        "  f = sympify(f) # kiem tra ham \n",
        " except SympifyError: \n",
        "  print('Ham nhap khong hop le!') \n",
        " else: \n",
        "  var = Symbol(var) \n",
        "  d = Derivative(f, var).doit() \n",
        "  var_max = grad_ascent(var0, d, var) \n",
        "  print('{0}: {1}'.format(var.name, var_max)) \n",
        "  print('Maximum value: {0}'.format(f.subs({var:var_max})))"
      ],
      "metadata": {
        "id": "tehob6_CYKQE",
        "outputId": "107c652c-9c68-4cce-f01d-bef6645f6567",
        "colab": {
          "base_uri": "https://localhost:8080/"
        }
      },
      "execution_count": 16,
      "outputs": [
        {
          "output_type": "stream",
          "name": "stdout",
          "text": [
            "Nhap ham 1 bien (f): 5\n",
            "Nhap ten bien tuong ung (x): 6\n",
            "Nhap gia tri khoi dau cho bien x: 3\n",
            "6: 3.00000000000000\n",
            "Maximum value: 5\n"
          ]
        }
      ]
    },
    {
      "cell_type": "code",
      "source": [
        "from sympy import Derivative, Symbol, sympify \n",
        "def grad_ascent(x0, ham_f1x, x): \n",
        " from sympy import solve, E \n",
        " if not solve(ham_f1x): \n",
        "  print('Khong the tiep tuc, phuong trinh {0}=0 vo nghiem'.format(ham_f1x)) \n",
        "  return\n",
        " epsilon = 1e-6 \n",
        " step_size = 1e-4 \n",
        " x_old = x0 \n",
        " x_new = x_old + step_size*ham_f1x.subs({x:x_old}).evalf() \n",
        " while abs(x_old - x_new) > epsilon: \n",
        "  x_old = x_new \n",
        "  x_new = x_old + step_size*ham_f1x.subs({x:x_old}).evalf()\n",
        " return x_new"
      ],
      "metadata": {
        "id": "270NaWNvYddW"
      },
      "execution_count": 25,
      "outputs": []
    },
    {
      "cell_type": "code",
      "source": [
        "if __name__ == '__main__':\n",
        " f = input('Nhap ham 1 bien (f): ')\n",
        " var = input('Nhap ten bien tuong ung (x): ')\n",
        " var0 = float(input('Nhap gia tri khoi dau cho bien x: '))\n",
        " try: \n",
        "  f = sympify(f)\n",
        " except SympifyError: \n",
        "  print('Ham nhap khong hop le!') \n",
        " else: \n",
        "  var = Symbol(var) \n",
        "  d = Derivative(f, var).doit() \n",
        "  var_max = grad_ascent(var0, d, var) \n",
        " if var_max: \n",
        "  print('{0}: {1}'.format(var.name, var_max)) \n",
        "  print('Maximum value: {0}'.format(f.subs({var:var_max}))) \n"
      ],
      "metadata": {
        "id": "cn_TtrW0cWJb",
        "outputId": "6e1705a4-e915-4cd3-9440-44a238e168ce",
        "colab": {
          "base_uri": "https://localhost:8080/"
        }
      },
      "execution_count": 27,
      "outputs": [
        {
          "output_type": "stream",
          "name": "stdout",
          "text": [
            "Nhap ham 1 bien (f): 6\n",
            "Nhap ten bien tuong ung (x): 3\n",
            "Nhap gia tri khoi dau cho bien x: 4\n",
            "Khong the tiep tuc, phuong trinh 0=0 vo nghiem\n"
          ]
        }
      ]
    }
  ]
}
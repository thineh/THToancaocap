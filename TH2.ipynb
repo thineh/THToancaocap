{
  "nbformat": 4,
  "nbformat_minor": 0,
  "metadata": {
    "colab": {
      "name": "TH2",
      "provenance": [],
      "collapsed_sections": [],
      "authorship_tag": "ABX9TyM0ReFyIaOCi9TOPNDosYGg",
      "include_colab_link": true
    },
    "kernelspec": {
      "name": "python3",
      "display_name": "Python 3"
    },
    "language_info": {
      "name": "python"
    }
  },
  "cells": [
    {
      "cell_type": "markdown",
      "metadata": {
        "id": "view-in-github",
        "colab_type": "text"
      },
      "source": [
        "<a href=\"https://colab.research.google.com/github/thineh/THToancaocap/blob/main/TH2.ipynb\" target=\"_parent\"><img src=\"https://colab.research.google.com/assets/colab-badge.svg\" alt=\"Open In Colab\"/></a>"
      ]
    },
    {
      "cell_type": "markdown",
      "source": [
        "TH1"
      ],
      "metadata": {
        "id": "vm_iFfQS3hGd"
      }
    },
    {
      "cell_type": "code",
      "source": [
        "chuoitinhtoan = 'a*b+c'\n",
        "a = 2\n",
        "b = 5\n",
        "c = 8 \n",
        "eval(chuoitinhtoan)"
      ],
      "metadata": {
        "colab": {
          "base_uri": "https://localhost:8080/"
        },
        "id": "LZyqo8tl3kUZ",
        "outputId": "50423db3-a107-41ec-f2dc-aab09ac774ae"
      },
      "execution_count": 1,
      "outputs": [
        {
          "output_type": "execute_result",
          "data": {
            "text/plain": [
              "18"
            ]
          },
          "metadata": {},
          "execution_count": 1
        }
      ]
    },
    {
      "cell_type": "markdown",
      "source": [
        "TH2\n"
      ],
      "metadata": {
        "id": "y22LHFXc303R"
      }
    },
    {
      "cell_type": "code",
      "source": [
        "from sympy import Symbol\n",
        "x = Symbol ('x ')\n",
        "y = Symbol ('y')\n",
        "bieuthuc = x +y \n",
        "theso = bieuthuc.subs({x: 5, y: 10 })\n",
        "theso"
      ],
      "metadata": {
        "colab": {
          "base_uri": "https://localhost:8080/",
          "height": 38
        },
        "id": "a83aXcIU31HX",
        "outputId": "ff78b3f5-73c0-4ee7-8a05-670c099d9ab4"
      },
      "execution_count": 4,
      "outputs": [
        {
          "output_type": "execute_result",
          "data": {
            "text/latex": "$\\displaystyle 15$",
            "text/plain": [
              "15"
            ]
          },
          "metadata": {},
          "execution_count": 4
        }
      ]
    },
    {
      "cell_type": "markdown",
      "source": [
        "b)"
      ],
      "metadata": {
        "id": "LawHEPnP31X0"
      }
    },
    {
      "cell_type": "code",
      "source": [
        "u = Symbol ('u')\n",
        "v = Symbol (' v')\n",
        "bieuthuc_uv = bieuthuc.subs({x:u,y:v})\n",
        "bieuthuc_uv"
      ],
      "metadata": {
        "id": "Qc31oFqM31fq"
      },
      "execution_count": null,
      "outputs": []
    },
    {
      "cell_type": "markdown",
      "source": [
        "c)"
      ],
      "metadata": {
        "id": "h0myCQe-6Fm5"
      }
    },
    {
      "cell_type": "code",
      "source": [
        "tinhtoan=bieuthuc.subs({x: 2*u*v, y: u*v**2})\n",
        "tinhtoan\n",
        "tinhtoan.factor()"
      ],
      "metadata": {
        "id": "GGO4QwpX6F67"
      },
      "execution_count": null,
      "outputs": []
    },
    {
      "cell_type": "markdown",
      "source": [
        "d)"
      ],
      "metadata": {
        "id": "5pA0cGHy6GFy"
      }
    },
    {
      "cell_type": "code",
      "source": [
        "from sympy import Symbol \n",
        "x = Symbol ('x')\n",
        "y = Symbol ('y')\n",
        "bieuthuc= x + y\n",
        "bieuthuc1= x**2 + y**2 \n",
        "u = Symbol ('u')\n",
        "v = Symbol('v')\n",
        "a = Symbol ('a')\n",
        "from sympy import sin, cos\n",
        "bieuthuc_uv = bieuthuc1.subs({x: a*sin(u), y: a*cos(u)})\n",
        "bieuthuc_uv\n",
        "bieuthuc_uv.simplify()"
      ],
      "metadata": {
        "id": "w9Cg9V906GO6"
      },
      "execution_count": null,
      "outputs": []
    },
    {
      "cell_type": "markdown",
      "source": [
        "TH3"
      ],
      "metadata": {
        "id": "gVDcCKM76kQv"
      }
    },
    {
      "cell_type": "code",
      "source": [
        "danhsach  = [ 1,2,3,4,5]\n",
        "danhsach[ 1 ]"
      ],
      "metadata": {
        "id": "xf-Jsatr6luq"
      },
      "execution_count": null,
      "outputs": []
    },
    {
      "cell_type": "code",
      "source": [
        "danhsach.append(10 )\n",
        "danhsach"
      ],
      "metadata": {
        "id": "XDICQTZl6nQV"
      },
      "execution_count": null,
      "outputs": []
    },
    {
      "cell_type": "code",
      "source": [
        "danhsach.insert(0,15 )\n",
        "danhsach"
      ],
      "metadata": {
        "id": "veYopniD6nX5"
      },
      "execution_count": null,
      "outputs": []
    },
    {
      "cell_type": "code",
      "source": [
        "danhsach.pop(0 )\n",
        "danhsach"
      ],
      "metadata": {
        "id": "jByYp9Y76ncD"
      },
      "execution_count": null,
      "outputs": []
    },
    {
      "cell_type": "markdown",
      "source": [
        "TH4"
      ],
      "metadata": {
        "id": "JrjxQRjM6rm0"
      }
    },
    {
      "cell_type": "code",
      "source": [
        "danhsach=[5,10,15,11,2020]\n",
        "for ch in danhsach:\n",
        "  print(ch )"
      ],
      "metadata": {
        "id": "w7WTbTZ36tMT"
      },
      "execution_count": null,
      "outputs": []
    },
    {
      "cell_type": "code",
      "source": [
        "for chiso, giatri in enumerate (danhsach):\n",
        "  print(chiso,':', giatri )"
      ],
      "metadata": {
        "id": "WYVM-q-H6tO-"
      },
      "execution_count": null,
      "outputs": []
    },
    {
      "cell_type": "markdown",
      "source": [
        "TH5"
      ],
      "metadata": {
        "id": "f3mddHXl6yE0"
      }
    },
    {
      "cell_type": "code",
      "source": [
        "giatri_x = [ 2,4,6,8 ]\n",
        "giatri_y = [1, 5, 7, 9]\n",
        "from pylab import plot, show\n",
        "plot(giatri_x , giatri_y )\n",
        "show( )"
      ],
      "metadata": {
        "id": "_uRMRArS6yno"
      },
      "execution_count": null,
      "outputs": []
    },
    {
      "cell_type": "markdown",
      "source": [
        "TH6"
      ],
      "metadata": {
        "id": "wJCfGvvW61wy"
      }
    },
    {
      "cell_type": "code",
      "source": [
        "giatri_x = [ 2,4,6,8 ]\n",
        "giatri_y = [1, 5, 7, 9]\n",
        "from pylab import plot, show \n",
        "plot (giatri_x , giatri_y, marker='o')"
      ],
      "metadata": {
        "id": "obNdano562gI"
      },
      "execution_count": null,
      "outputs": []
    },
    {
      "cell_type": "markdown",
      "source": [
        "TH7"
      ],
      "metadata": {
        "id": "tEcyUBCR64DS"
      }
    },
    {
      "cell_type": "code",
      "source": [
        "luongmua = [13.8,4.1,10.5, 50.4, 218.4, 311.7, 293.7, 269.8, 327.1, 266.7, 116.5, 48.3]\n",
        "thang= range(1,13)\n",
        "from pylab import show, plot\n",
        "plot(thang, luongmua, marker='o') \n",
        "show()"
      ],
      "metadata": {
        "id": "nRgGs0a_64lH"
      },
      "execution_count": null,
      "outputs": []
    }
  ]
}